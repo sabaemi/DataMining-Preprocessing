{
  "nbformat": 4,
  "nbformat_minor": 0,
  "metadata": {
    "colab": {
      "provenance": []
    },
    "kernelspec": {
      "name": "python3",
      "display_name": "Python 3"
    },
    "language_info": {
      "name": "python"
    }
  },
  "cells": [
    {
      "cell_type": "markdown",
      "source": [
        "Importing libraries and connecting to google CoLab"
      ],
      "metadata": {
        "id": "I_tY7kvm9KFR"
      }
    },
    {
      "cell_type": "code",
      "execution_count": null,
      "metadata": {
        "id": "udTsVZG60ZFz"
      },
      "outputs": [],
      "source": [
        "import numpy as np\n",
        "import pandas as pd\n",
        "import matplotlib.pyplot as plt\n",
        "%cd /content/drive/My Drive/Colab Notebooks/"
      ]
    },
    {
      "cell_type": "markdown",
      "source": [
        "Reading Dataset"
      ],
      "metadata": {
        "id": "mDRCJ7nn1rh0"
      }
    },
    {
      "cell_type": "code",
      "source": [
        "csv_filepath = 'divar_posts_dataset.csv'\n",
        "df = pd.read_csv(r'divar_posts_dataset.csv')\n",
        "dfNum = pd.read_csv(csv_filepath, usecols=[9, 10, 11, 13, 16])"
      ],
      "metadata": {
        "id": "ayG3a5g51rC8"
      },
      "execution_count": 40,
      "outputs": []
    },
    {
      "cell_type": "markdown",
      "source": [
        "Finding minimum value of features"
      ],
      "metadata": {
        "id": "S0P_oxcCHx1Q"
      }
    },
    {
      "cell_type": "code",
      "source": [
        "print(df.describe().T['min'])"
      ],
      "metadata": {
        "colab": {
          "base_uri": "https://localhost:8080/"
        },
        "id": "R-aY-N4iHK50",
        "outputId": "34fc74fc-b0ef-4f55-f09c-6beecac417f7"
      },
      "execution_count": 41,
      "outputs": [
        {
          "output_type": "stream",
          "name": "stdout",
          "text": [
            "Unnamed: 0            0.0\n",
            "id             59505527.0\n",
            "image_count           0.0\n",
            "mileage               0.0\n",
            "price                -1.0\n",
            "Name: min, dtype: float64\n"
          ]
        }
      ]
    },
    {
      "cell_type": "markdown",
      "source": [
        "Finding maximum value of features"
      ],
      "metadata": {
        "id": "cBxmBh98ILUR"
      }
    },
    {
      "cell_type": "code",
      "source": [
        "print(df.describe().T['max'])"
      ],
      "metadata": {
        "colab": {
          "base_uri": "https://localhost:8080/"
        },
        "id": "qRAw3UdDHQBf",
        "outputId": "15884849-8a6f-4157-f587-dca6a4a09ada"
      },
      "execution_count": 42,
      "outputs": [
        {
          "output_type": "stream",
          "name": "stdout",
          "text": [
            "Unnamed: 0     9.476340e+05\n",
            "id             6.728036e+13\n",
            "image_count    1.600000e+01\n",
            "mileage        5.000000e+05\n",
            "price          4.000000e+08\n",
            "Name: max, dtype: float64\n"
          ]
        }
      ]
    },
    {
      "cell_type": "markdown",
      "source": [
        "Finding average of features"
      ],
      "metadata": {
        "id": "LnDsUw06IQUP"
      }
    },
    {
      "cell_type": "code",
      "source": [
        "print(df.describe().T['mean'])"
      ],
      "metadata": {
        "colab": {
          "base_uri": "https://localhost:8080/"
        },
        "id": "Q53bv83PHSko",
        "outputId": "b8847be5-f38c-4917-d9de-fe2ee6389dde"
      },
      "execution_count": 43,
      "outputs": [
        {
          "output_type": "stream",
          "name": "stdout",
          "text": [
            "Unnamed: 0     4.738170e+05\n",
            "id             3.363293e+13\n",
            "image_count    1.785852e+00\n",
            "mileage        1.008623e+05\n",
            "price          3.398462e+06\n",
            "Name: mean, dtype: float64\n"
          ]
        }
      ]
    },
    {
      "cell_type": "markdown",
      "source": [
        "Finding median of features"
      ],
      "metadata": {
        "id": "vzoxIdVVIXfD"
      }
    },
    {
      "cell_type": "code",
      "source": [
        "print(dfNum.median())"
      ],
      "metadata": {
        "colab": {
          "base_uri": "https://localhost:8080/"
        },
        "id": "v_a6JxBIHW1e",
        "outputId": "16c47e9d-2adc-47f6-e53d-1ce81b7c9288"
      },
      "execution_count": 44,
      "outputs": [
        {
          "output_type": "stream",
          "name": "stdout",
          "text": [
            "id             3.362242e+13\n",
            "image_count    2.000000e+00\n",
            "mileage        7.500000e+04\n",
            "price          1.500000e+05\n",
            "dtype: float64\n"
          ]
        },
        {
          "output_type": "stream",
          "name": "stderr",
          "text": [
            "/usr/local/lib/python3.7/dist-packages/ipykernel_launcher.py:1: FutureWarning: Dropping of nuisance columns in DataFrame reductions (with 'numeric_only=None') is deprecated; in a future version this will raise TypeError.  Select only valid columns before calling the reduction.\n",
            "  \"\"\"Entry point for launching an IPython kernel.\n"
          ]
        }
      ]
    },
    {
      "cell_type": "markdown",
      "source": [
        "Finding mod of features"
      ],
      "metadata": {
        "id": "i-XvUhM6IfYp"
      }
    },
    {
      "cell_type": "code",
      "source": [
        "print(df.mode().loc[0,:])"
      ],
      "metadata": {
        "colab": {
          "base_uri": "https://localhost:8080/"
        },
        "id": "420f74FV_zzH",
        "outputId": "f3409844-d905-4215-afbf-e923b9b1ca4c"
      },
      "execution_count": 45,
      "outputs": [
        {
          "output_type": "stream",
          "name": "stdout",
          "text": [
            "Unnamed: 0                                 0\n",
            "archive_by_user                         True\n",
            "brand                 پراید صندوق‌دار::Pride\n",
            "cat1                            for-the-home\n",
            "cat2               furniture-and-home-decore\n",
            "cat3                                   light\n",
            "city                                  Tehran\n",
            "created_at                     Saturday 12PM\n",
            "desc                              کاملا سالم\n",
            "id                                  59505527\n",
            "image_count                              1.0\n",
            "mileage                             200000.0\n",
            "platform                              mobile\n",
            "price                                   -1.0\n",
            "title                                   بوفه\n",
            "type                                   women\n",
            "year                                    1393\n",
            "Name: 0, dtype: object\n"
          ]
        }
      ]
    },
    {
      "cell_type": "markdown",
      "source": [
        "Displaying outliers using boxplot"
      ],
      "metadata": {
        "id": "IBXrcE7PDQAB"
      }
    },
    {
      "cell_type": "markdown",
      "source": [
        "Price feature "
      ],
      "metadata": {
        "id": "8525DRdCDadk"
      }
    },
    {
      "cell_type": "code",
      "source": [
        "fig = plt.figure()\n",
        "plt.boxplot(dfNum[\"price\"])\n",
        "plt.show()"
      ],
      "metadata": {
        "colab": {
          "base_uri": "https://localhost:8080/",
          "height": 276
        },
        "id": "uw4M6N0O_3uS",
        "outputId": "43f56b83-569e-4ff7-a064-717002227054"
      },
      "execution_count": 46,
      "outputs": [
        {
          "output_type": "display_data",
          "data": {
            "text/plain": [
              "<Figure size 432x288 with 1 Axes>"
            ],
            "image/png": "[encoded data removed]"
          },
          "metadata": {
            "needs_background": "light"
          }
        }
      ]
    },
    {
      "cell_type": "markdown",
      "source": [
        "Mileage feature"
      ],
      "metadata": {
        "id": "t_v2KsWJDiop"
      }
    },
    {
      "cell_type": "code",
      "source": [
        "fig = plt.figure()\n",
        "df.boxplot(column=[\"mileage\"])\n",
        "plt.show()"
      ],
      "metadata": {
        "colab": {
          "base_uri": "https://localhost:8080/",
          "height": 265
        },
        "id": "ytFmtmFM_5SG",
        "outputId": "e6cbe022-6cc2-49df-9252-040fc29f0484"
      },
      "execution_count": 47,
      "outputs": [
        {
          "output_type": "display_data",
          "data": {
            "text/plain": [
              "<Figure size 432x288 with 1 Axes>"
            ],
            "image/png": "[encoded data removed]"
          },
          "metadata": {
            "needs_background": "light"
          }
        }
      ]
    },
    {
      "cell_type": "markdown",
      "source": [
        "Image count feature"
      ],
      "metadata": {
        "id": "5E-0EOgkDlZb"
      }
    },
    {
      "cell_type": "code",
      "source": [
        "fig = plt.figure()\n",
        "df.boxplot(column=[\"image_count\"])\n",
        "plt.show()"
      ],
      "metadata": {
        "colab": {
          "base_uri": "https://localhost:8080/",
          "height": 266
        },
        "id": "y9lQt1oI_65F",
        "outputId": "0614e5f8-8aa1-4bef-cac1-ab28d7c10489"
      },
      "execution_count": 48,
      "outputs": [
        {
          "output_type": "display_data",
          "data": {
            "text/plain": [
              "<Figure size 432x288 with 1 Axes>"
            ],
            "image/png": "[encoded data removed]"
          },
          "metadata": {
            "needs_background": "light"
          }
        }
      ]
    },
    {
      "cell_type": "markdown",
      "source": [
        "Id feature"
      ],
      "metadata": {
        "id": "a5Otb_1wDo2R"
      }
    },
    {
      "cell_type": "code",
      "source": [
        "fig = plt.figure()\n",
        "plt.boxplot(dfNum[\"id\"])\n",
        "plt.show()"
      ],
      "metadata": {
        "colab": {
          "base_uri": "https://localhost:8080/",
          "height": 276
        },
        "id": "2LDOIFTd_8wh",
        "outputId": "6e52dc22-63fb-4450-b40e-9fab7712691c"
      },
      "execution_count": 49,
      "outputs": [
        {
          "output_type": "display_data",
          "data": {
            "text/plain": [
              "<Figure size 432x288 with 1 Axes>"
            ],
            "image/png": "[encoded data removed]"
          },
          "metadata": {
            "needs_background": "light"
          }
        }
      ]
    },
    {
      "cell_type": "markdown",
      "source": [
        "Checking data completeness"
      ],
      "metadata": {
        "id": "Lmg8iJ2qDwPx"
      }
    },
    {
      "cell_type": "markdown",
      "source": [
        "First method: dividing records with complete features by all records\n",
        "\n",
        "In this method, because all the records did not have at least one feature, the result is zero."
      ],
      "metadata": {
        "id": "0DmVaRn0EKT_"
      }
    },
    {
      "cell_type": "code",
      "source": [
        "num = 0\n",
        "dfCheck = df.isnull()\n",
        "row, col = dfCheck.shape\n",
        "for index in range(row):\n",
        "    flag = 0\n",
        "    for j in range(col):\n",
        "        if dfCheck.iat[index, j]:\n",
        "            flag = 1\n",
        "    if flag == 0:\n",
        "        num += 1\n",
        "print(num)\n",
        "\n",
        "dfSelected = pd.read_csv(csv_filepath, usecols=[1, 3, 9, 13, 6])"
      ],
      "metadata": {
        "colab": {
          "base_uri": "https://localhost:8080/"
        },
        "id": "YtbG-zaY_QYT",
        "outputId": "427651c3-8073-4ecc-b9c5-029ef2b6dc0a"
      },
      "execution_count": 50,
      "outputs": [
        {
          "output_type": "stream",
          "name": "stdout",
          "text": [
            "0\n"
          ]
        }
      ]
    },
    {
      "cell_type": "markdown",
      "source": [
        "Second method: For this method, we selected 5 features (price, city, archive_by_user, cat1, id) and calculated the completeness based on dividing the value of the features by all the records, and the result is 100%."
      ],
      "metadata": {
        "id": "gLV8z3UbFsoN"
      }
    },
    {
      "cell_type": "code",
      "source": [
        "num2 = 0\n",
        "dfCheck2 = dfSelected.isnull()\n",
        "row2, col2 = dfCheck2.shape\n",
        "for index in range(row2):\n",
        "    for j in range(col2):\n",
        "        if not dfCheck2.iat[index, j]:\n",
        "            num2 += 1\n",
        "\n",
        "print(num2/(row2*col2))"
      ],
      "metadata": {
        "colab": {
          "base_uri": "https://localhost:8080/"
        },
        "id": "kZB05xkbArbK",
        "outputId": "91f44631-90a9-4a85-fe78-e4b09a982b9e"
      },
      "execution_count": 51,
      "outputs": [
        {
          "output_type": "stream",
          "name": "stdout",
          "text": [
            "1.0\n"
          ]
        }
      ]
    },
    {
      "cell_type": "markdown",
      "source": [
        "Third method: dividing the table cells that have values ​​by all the table cells (multiplying the number of features in the records)\n",
        "\n",
        "The result is 0.7868185783866275 (78.7 percent). So according to the results obtained from the methods and the noise of the data, the third method is more suitable for this dataset."
      ],
      "metadata": {
        "id": "UX90UMuwGFcy"
      }
    },
    {
      "cell_type": "code",
      "source": [
        "# 4.3\n",
        "num3 = 0\n",
        "dfCheck3 = df.isnull()\n",
        "row3, col3 = dfCheck3.shape\n",
        "for index in range(row3):\n",
        "    for j in range(col3):\n",
        "        if not dfCheck3.iat[index, j]:\n",
        "            num3 += 1\n",
        "\n",
        "print(num3/(row3*col3))"
      ],
      "metadata": {
        "colab": {
          "base_uri": "https://localhost:8080/"
        },
        "id": "SRCClvb1AtGY",
        "outputId": "53b7911c-ae8c-4c39-ed47-256253ab2eeb"
      },
      "execution_count": 52,
      "outputs": [
        {
          "output_type": "stream",
          "name": "stdout",
          "text": [
            "0.7868185783866275\n"
          ]
        }
      ]
    },
    {
      "cell_type": "markdown",
      "source": [
        "Finding type of each feature"
      ],
      "metadata": {
        "id": "cvoCJ_WFGxHb"
      }
    },
    {
      "cell_type": "code",
      "source": [
        "print(type(df[\"archive_by_user\"][4]))\n",
        "print(type(df[\"brand\"][8]))\n",
        "print(type(df[\"cat1\"][4]))\n",
        "print(type(df[\"cat2\"][4]))\n",
        "print(type(df[\"cat3\"][4]))\n",
        "print(type(df[\"city\"][4]))\n",
        "print(type(df[\"created_at\"][4]))\n",
        "print(type(df[\"desc\"][4]))\n",
        "print(type(df[\"id\"][4]))\n",
        "print(type(df[\"image_count\"][4]))\n",
        "print(type(df[\"mileage\"][8]))\n",
        "print(type(df[\"platform\"][4]))\n",
        "print(type(df[\"price\"][4]))\n",
        "print(type(df[\"title\"][4]))\n",
        "print(type(df[\"type\"][10]))\n",
        "print(type(df[\"year\"][22]))"
      ],
      "metadata": {
        "colab": {
          "base_uri": "https://localhost:8080/"
        },
        "id": "XTS8Zx4GAvOt",
        "outputId": "f2c32072-9439-4db3-b452-8813cc5ca139"
      },
      "execution_count": 53,
      "outputs": [
        {
          "output_type": "stream",
          "name": "stdout",
          "text": [
            "<class 'numpy.bool_'>\n",
            "<class 'str'>\n",
            "<class 'str'>\n",
            "<class 'str'>\n",
            "<class 'str'>\n",
            "<class 'str'>\n",
            "<class 'str'>\n",
            "<class 'str'>\n",
            "<class 'numpy.int64'>\n",
            "<class 'numpy.int64'>\n",
            "<class 'numpy.float64'>\n",
            "<class 'str'>\n",
            "<class 'numpy.int64'>\n",
            "<class 'str'>\n",
            "<class 'str'>\n",
            "<class 'str'>\n"
          ]
        }
      ]
    }
  ]
}